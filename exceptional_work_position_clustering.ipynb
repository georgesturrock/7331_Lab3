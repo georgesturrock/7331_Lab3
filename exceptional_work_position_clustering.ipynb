{
 "cells": [
  {
   "cell_type": "markdown",
   "metadata": {},
   "source": [
    "## Exceptional Work\n",
    "### Overview\n",
    "For our exceptional work we have decided to revisit our analyses from Lab 2, attempt to recreate them using clustering instead of classification, and compare the results between the two. To recap, in Lab 2 we used player season-level performance statistics along with classification algorithms in an attempt to categorize players by position using attributes other than position.\n",
    "\n",
    "In this analysis we will use clustering to group players based on stats. To assess clustering accuracy and purity. We will assing a position to each final cluster group based on the majority position in that group. So for example, if a cluster had seven catchers and three outfields we would assign the predicted position to every player in that group as catcher.\n",
    "\n",
    "### Data Prep\n",
    "For this assessment we excluded pitchers and designated hitters since most of our predictor fields will be based on fielding (e.g., number of put outs by a player). We're selecting fielding statistics because these were predictive variables in our classification models in Lab 2.\n",
    "\n",
    "Also, to account for the fact that players will have played different numbers of games each year, we calculated a \"per game played on the field\" value for each of the fielding stats per year. Lastly, we excluded any years where a player played no games in a given year."
   ]
  },
  {
   "cell_type": "code",
   "execution_count": 1,
   "metadata": {
    "collapsed": true
   },
   "outputs": [],
   "source": [
    "import pandas as pd\n",
    "import numpy as np\n",
    "from scipy import stats\n",
    "from sklearn.cluster import KMeans\n",
    "from sklearn.cluster import DBSCAN\n",
    "from sklearn.cluster import AgglomerativeClustering\n",
    "from matplotlib import pyplot as plt\n",
    "import seaborn as sns\n",
    "from matplotlib import pyplot\n",
    "plt.style.use(\"ggplot\")\n",
    "\n",
    "# LOAD DATA\n",
    "player = pd.read_pickle(\"./analysisdata/player.pkl\")\n",
    "\n",
    "# Remove DH Since this will be an assessment using defensive stats\n",
    "player = player.loc[player['Primary'] != \"DH\"]\n",
    "# Player must have played games in a given year\n",
    "player = player.loc[player['G_y'] > 0]\n",
    "\n",
    "# Calculate per game stats\n",
    "player = player.assign(ApG = player.A / player.G_y)\n",
    "player = player.assign(POpG = player.PO / player.G_y)\n",
    "player = player.assign(DPpG = player.DP / player.G_y)\n",
    "\n",
    "# Sort By Position\n",
    "player = player.sort_values(by=['Primary'])\n",
    "\n",
    "# Analysis Data\n",
    "X1 = player[['POpG', 'ApG', \"DPpG\"]]"
   ]
  },
  {
   "cell_type": "markdown",
   "metadata": {},
   "source": [
    "### KMeans Clustering\n",
    "\n",
    "Using only three fielding statistics (outs played, assists, and double plays per game) and 20 cluster groups, kmeans was able to produce accuracy of around 85%."
   ]
  },
  {
   "cell_type": "code",
   "execution_count": 2,
   "metadata": {},
   "outputs": [
    {
     "name": "stdout",
     "output_type": "stream",
     "text": [
      "6  Cluster Accuracy:  0.6406267179769104\n",
      "7  Cluster Accuracy:  0.674322698894553\n",
      "8  Cluster Accuracy:  0.6913536498936924\n",
      "9  Cluster Accuracy:  0.687715269804822\n",
      "10  Cluster Accuracy:  0.6726445026900262\n",
      "11  Cluster Accuracy:  0.7254759011745646\n",
      "12  Cluster Accuracy:  0.6647250698974837\n",
      "13  Cluster Accuracy:  0.7390323163025817\n",
      "14  Cluster Accuracy:  0.7514113295697878\n",
      "15  Cluster Accuracy:  0.7624455033965325\n",
      "16  Cluster Accuracy:  0.7591892459567318\n",
      "17  Cluster Accuracy:  0.8419936373276776\n",
      "18  Cluster Accuracy:  0.8386406544996854\n",
      "19  Cluster Accuracy:  0.841350540998566\n",
      "20  Cluster Accuracy:  0.8531863404140898\n",
      "21  Cluster Accuracy:  0.8521306627234844\n",
      "22  Cluster Accuracy:  0.8405943450663589\n",
      "23  Cluster Accuracy:  0.8525902007581075\n",
      "24  Cluster Accuracy:  0.8650333429979704\n",
      "25  Cluster Accuracy:  0.8713765246317123\n",
      "26  Cluster Accuracy:  0.8608985024958402\n",
      "27  Cluster Accuracy:  0.8725611644471972\n",
      "28  Cluster Accuracy:  0.8462815405046481\n",
      "29  Cluster Accuracy:  0.8671861165220471\n",
      "30  Cluster Accuracy:  0.8441627990003571\n"
     ]
    }
   ],
   "source": [
    "bestAcc = 0\n",
    "bestN = 0\n",
    "for i in range(6,31):\n",
    "    cls = KMeans(n_clusters=i, init='k-means++',random_state=1)\n",
    "    cls.fit(X1)\n",
    "    newfeature_kmeans = cls.labels_ \n",
    "    plotDat = player[[\"Primary\"]]\n",
    "    plotDat = plotDat.assign(KMeans_Clust = newfeature_kmeans)\n",
    "    clustGroupMap = plotDat.groupby(['Primary']).agg(lambda x:x.value_counts().index[0])\n",
    "    clustGroupMap.reset_index(level=0, inplace=True)\n",
    "    clustGroupMap = clustGroupMap.rename(index=str, columns={\"Primary\":\"Clust_Pred\"})\n",
    "    AccData = plotDat.merge(clustGroupMap, on=\"KMeans_Clust\")\n",
    "    newAcc = np.mean(AccData.Primary == AccData.Clust_Pred)\n",
    "    if newAcc > bestAcc:\n",
    "            bestN = i\n",
    "    print(i, \" Cluster Accuracy: \",np.mean(AccData.Primary == AccData.Clust_Pred))"
   ]
  },
  {
   "cell_type": "markdown",
   "metadata": {},
   "source": [
    "We produced the heatmap below help visualize the purity clusters once they were assigned a position. The plot shows that clusters for outfielders are very pure with very few misclassifications. In contrast, the clusters are less accurate when trying to differentiate between shortstops and second basemen. This is not surprising since the fielding statistics will be comparable between those two positions."
   ]
  },
  {
   "cell_type": "code",
   "execution_count": 3,
   "metadata": {},
   "outputs": [
    {
     "data": {
      "text/plain": [
       "<matplotlib.axes._subplots.AxesSubplot at 0x1b2c23c6240>"
      ]
     },
     "execution_count": 3,
     "metadata": {},
     "output_type": "execute_result"
    },
    {
     "data": {
      "image/png": "[encoded data removed]",
      "text/plain": [
       "<Figure size 1152x576 with 2 Axes>"
      ]
     },
     "metadata": {},
     "output_type": "display_data"
    }
   ],
   "source": [
    "cls = KMeans(n_clusters=20, init='k-means++',random_state=1)\n",
    "cls.fit(X1)\n",
    "newfeature_kmeans = cls.labels_ \n",
    "\n",
    "fig, ax = pyplot.subplots(figsize=(16, 8))\n",
    "plotDat = player[[\"Primary\"]]\n",
    "plotDat = plotDat.assign(KMeans_Clust = newfeature_kmeans)\n",
    "clustGroupMap = plotDat.groupby(['Primary']).agg(lambda x:x.value_counts().index[0])\n",
    "clustGroupMap.reset_index(level=0, inplace=True)\n",
    "clustGroupMap = clustGroupMap.rename(index=str, columns={\"Primary\":\"Clust_Pred\"})\n",
    "AccData = plotDat.merge(clustGroupMap, on=\"KMeans_Clust\")\n",
    "sns.heatmap(pd.crosstab(AccData.Primary, AccData.Clust_Pred), annot=True, fmt=\".0f\")"
   ]
  },
  {
   "cell_type": "markdown",
   "metadata": {},
   "source": [
    "### Hierarchical Clustering\n",
    "\n",
    "Hierarchical Clustering was able to come up with similar accuracy to kmean clustering (around 85%) using ~20 clusters and the Ward's link method. The other link options did not produce as good of results as Ward's method. Again using only three fielding statistics (outs played, assists, and double plays per game) and 20 cluster groups, kmeans was able to produce accuracy of around 85%.\n",
    "\n",
    "Since both Kmeans and hierarchical clustering produced similar results. We would recommend using kmeans in the future since the computational power and time necessary to run kmean is significantly less than HAC clustering."
   ]
  },
  {
   "cell_type": "code",
   "execution_count": 5,
   "metadata": {},
   "outputs": [
    {
     "name": "stdout",
     "output_type": "stream",
     "text": [
      "6  Cluster,  ward  Link Accuracy:  0.5029122468659595\n",
      "6  Cluster,  complete  Link Accuracy:  0.4432451143909117\n",
      "6  Cluster,  average  Link Accuracy:  0.27403832047181714\n",
      "7  Cluster,  ward  Link Accuracy:  0.669919534326314\n",
      "7  Cluster,  complete  Link Accuracy:  0.44323439614743004\n",
      "7  Cluster,  average  Link Accuracy:  0.2766135792120704\n",
      "8  Cluster,  ward  Link Accuracy:  0.6767415446744068\n",
      "8  Cluster,  complete  Link Accuracy:  0.44323439614743004\n",
      "8  Cluster,  average  Link Accuracy:  0.2766135792120704\n",
      "9  Cluster,  ward  Link Accuracy:  0.6808862433862434\n",
      "9  Cluster,  complete  Link Accuracy:  0.4430183668953308\n",
      "9  Cluster,  average  Link Accuracy:  0.526501546053659\n",
      "10  Cluster,  ward  Link Accuracy:  0.6808862433862434\n",
      "10  Cluster,  complete  Link Accuracy:  0.4421486293772778\n",
      "10  Cluster,  average  Link Accuracy:  0.5265558610347413\n",
      "11  Cluster,  ward  Link Accuracy:  0.640600624024961\n",
      "11  Cluster,  complete  Link Accuracy:  0.4411404244339805\n",
      "11  Cluster,  average  Link Accuracy:  0.5265558610347413\n",
      "12  Cluster,  ward  Link Accuracy:  0.640600624024961\n",
      "12  Cluster,  complete  Link Accuracy:  0.5322069144788146\n",
      "12  Cluster,  average  Link Accuracy:  0.5265593246834454\n",
      "13  Cluster,  ward  Link Accuracy:  0.672377312128865\n",
      "13  Cluster,  complete  Link Accuracy:  0.5326897991129663\n",
      "13  Cluster,  average  Link Accuracy:  0.5265922521339461\n",
      "14  Cluster,  ward  Link Accuracy:  0.672377312128865\n",
      "14  Cluster,  complete  Link Accuracy:  0.5326897991129663\n",
      "14  Cluster,  average  Link Accuracy:  0.5265922521339461\n",
      "15  Cluster,  ward  Link Accuracy:  0.7548830580937211\n",
      "15  Cluster,  complete  Link Accuracy:  0.5326897991129663\n",
      "15  Cluster,  average  Link Accuracy:  0.5265922521339461\n",
      "16  Cluster,  ward  Link Accuracy:  0.7815035154137372\n",
      "16  Cluster,  complete  Link Accuracy:  0.5184835177052644\n",
      "16  Cluster,  average  Link Accuracy:  0.5185925367755463\n",
      "17  Cluster,  ward  Link Accuracy:  0.7410537870472009\n",
      "17  Cluster,  complete  Link Accuracy:  0.5601038459216325\n",
      "17  Cluster,  average  Link Accuracy:  0.5185925367755463\n",
      "18  Cluster,  ward  Link Accuracy:  0.7712142522269104\n",
      "18  Cluster,  complete  Link Accuracy:  0.5628241174632928\n",
      "18  Cluster,  average  Link Accuracy:  0.5174161073825503\n",
      "19  Cluster,  ward  Link Accuracy:  0.8238223418573352\n",
      "19  Cluster,  complete  Link Accuracy:  0.562277134813888\n",
      "19  Cluster,  average  Link Accuracy:  0.5173351233428427\n",
      "20  Cluster,  ward  Link Accuracy:  0.8238223418573352\n",
      "20  Cluster,  complete  Link Accuracy:  0.562277134813888\n",
      "20  Cluster,  average  Link Accuracy:  0.5205314838975486\n",
      "21  Cluster,  ward  Link Accuracy:  0.8238223418573352\n",
      "21  Cluster,  complete  Link Accuracy:  0.566089092478258\n",
      "21  Cluster,  average  Link Accuracy:  0.5205314838975486\n",
      "22  Cluster,  ward  Link Accuracy:  0.8534097261039687\n",
      "22  Cluster,  complete  Link Accuracy:  0.566089092478258\n",
      "22  Cluster,  average  Link Accuracy:  0.5205314838975486\n",
      "23  Cluster,  ward  Link Accuracy:  0.8555059523809524\n",
      "23  Cluster,  complete  Link Accuracy:  0.566089092478258\n",
      "23  Cluster,  average  Link Accuracy:  0.7042729625521577\n",
      "24  Cluster,  ward  Link Accuracy:  0.8574500768049155\n",
      "24  Cluster,  complete  Link Accuracy:  0.5705677557579004\n",
      "24  Cluster,  average  Link Accuracy:  0.7043965335024308\n",
      "25  Cluster,  ward  Link Accuracy:  0.8574500768049155\n",
      "25  Cluster,  complete  Link Accuracy:  0.5705677557579004\n",
      "25  Cluster,  average  Link Accuracy:  0.7043965335024308\n",
      "26  Cluster,  ward  Link Accuracy:  0.8574500768049155\n",
      "26  Cluster,  complete  Link Accuracy:  0.5705677557579004\n",
      "26  Cluster,  average  Link Accuracy:  0.7046994072819645\n",
      "27  Cluster,  ward  Link Accuracy:  0.8574500768049155\n",
      "27  Cluster,  complete  Link Accuracy:  0.5705677557579004\n",
      "27  Cluster,  average  Link Accuracy:  0.7046994072819645\n",
      "28  Cluster,  ward  Link Accuracy:  0.8521444695259593\n",
      "28  Cluster,  complete  Link Accuracy:  0.5705677557579004\n",
      "28  Cluster,  average  Link Accuracy:  0.7046994072819645\n",
      "29  Cluster,  ward  Link Accuracy:  0.8521444695259593\n",
      "29  Cluster,  complete  Link Accuracy:  0.5705677557579004\n",
      "29  Cluster,  average  Link Accuracy:  0.7046994072819645\n",
      "30  Cluster,  ward  Link Accuracy:  0.8796327212020033\n",
      "30  Cluster,  complete  Link Accuracy:  0.7468176630673339\n",
      "30  Cluster,  average  Link Accuracy:  0.7046994072819645\n"
     ]
    }
   ],
   "source": [
    "bestAcc = 0\n",
    "bestN = 0\n",
    "bestLink = None\n",
    "for i in range(6,31):\n",
    "    for link in ['ward', 'complete', 'average']:\n",
    "        cls = AgglomerativeClustering(n_clusters=i, linkage=link, compute_full_tree = False)\n",
    "        cls.fit(X1)\n",
    "        clustLab = cls.labels_ \n",
    "        plotDat = player[[\"Primary\"]]\n",
    "        plotDat = plotDat.assign(Clust = clustLab)\n",
    "        clustGroupMap = plotDat.groupby(['Primary']).agg(lambda x:x.value_counts().index[0])\n",
    "        clustGroupMap.reset_index(level=0, inplace=True)\n",
    "        clustGroupMap = clustGroupMap.rename(index=str, columns={\"Primary\":\"Clust_Pred\"})\n",
    "        AccData = plotDat.merge(clustGroupMap, on=\"Clust\")\n",
    "        newAcc = np.mean(AccData.Primary == AccData.Clust_Pred)\n",
    "        if newAcc > bestAcc:\n",
    "                bestN = i\n",
    "                bestLink = link\n",
    "        print(i, \" Cluster, \" ,link, \" Link Accuracy: \",np.mean(AccData.Primary == AccData.Clust_Pred))\n"
   ]
  },
  {
   "cell_type": "markdown",
   "metadata": {},
   "source": [
    "Again, just as with KMean, the outfield clusters were the most pure and easy to categorize, while the center infielders were the least. Also of note, this model seems to find some similarities between catchers and first baseman."
   ]
  },
  {
   "cell_type": "code",
   "execution_count": 7,
   "metadata": {},
   "outputs": [
    {
     "data": {
      "text/plain": [
       "<matplotlib.axes._subplots.AxesSubplot at 0x7f36e44b28d0>"
      ]
     },
     "execution_count": 7,
     "metadata": {},
     "output_type": "execute_result"
    },
    {
     "data": {
      "image/png": "[encoded data removed]",
      "text/plain": [
       "<Figure size 1152x576 with 2 Axes>"
      ]
     },
     "metadata": {},
     "output_type": "display_data"
    }
   ],
   "source": [
    "cls = AgglomerativeClustering(n_clusters=20, linkage=\"ward\")\n",
    "cls.fit(X1)\n",
    "newfeature_hac = cls.labels_ \n",
    "\n",
    "from matplotlib import pyplot\n",
    "fig, ax = pyplot.subplots(figsize=(16, 8))\n",
    "plotDat = player[[\"Primary\"]]\n",
    "plotDat = plotDat.assign(HAC_Clust = newfeature_hac)\n",
    "clustGroupMap = plotDat.groupby(['Primary']).agg(lambda x:x.value_counts().index[0])\n",
    "clustGroupMap.reset_index(level=0, inplace=True)\n",
    "clustGroupMap = clustGroupMap.rename(index=str, columns={\"Primary\":\"Clust_Pred\"})\n",
    "AccData = plotDat.merge(clustGroupMap, on=\"HAC_Clust\")\n",
    "sns.heatmap(pd.crosstab(AccData.Primary, AccData.Clust_Pred), annot=True, fmt=\".0f\")"
   ]
  },
  {
   "cell_type": "markdown",
   "metadata": {},
   "source": [
    "### DBSCAN Clustering\n",
    "\n",
    "We attempted several different iterations of DBSCAN clustering from position categorization, however none produced any results worth including. The majority of the players were grouped into a single large cluster along with several smaller clusters with very few players."
   ]
  },
  {
   "cell_type": "markdown",
   "metadata": {},
   "source": [
    "### Comparison to Classification\n",
    "The accuracy of the clustering models was on par with the best accuracies produced with Random Forest (RF) models in Lab 2. The RF models are likely more practical given that clustering is unsupervised and requires known labels to assign cluster labels making predicting unknown player positions harder than with the RF model."
   ]
  }
 ],
 "metadata": {
  "kernelspec": {
   "display_name": "Python 3",
   "language": "python",
   "name": "python3"
  },
  "language_info": {
   "codemirror_mode": {
    "name": "ipython",
    "version": 3
   },
   "file_extension": ".py",
   "mimetype": "text/x-python",
   "name": "python",
   "nbconvert_exporter": "python",
   "pygments_lexer": "ipython3",
   "version": "3.5.5"
  }
 },
 "nbformat": 4,
 "nbformat_minor": 2
}
