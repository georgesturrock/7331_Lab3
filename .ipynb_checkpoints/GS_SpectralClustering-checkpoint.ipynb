{
 "cells": [
  {
   "cell_type": "markdown",
   "metadata": {},
   "source": [
    "### Spectral Clustering - KNeighors Graph"
   ]
  },
  {
   "cell_type": "code",
   "execution_count": 25,
   "metadata": {},
   "outputs": [],
   "source": [
    "import pandas as pd\n",
    "from sklearn.cluster import SpectralClustering\n",
    "from sklearn.neighbors import kneighbors_graph\n",
    "from sklearn.metrics.pairwise import pairwise_distances\n",
    "import matplotlib.pyplot as plt\n",
    "\n",
    "import warnings\n",
    "warnings.filterwarnings('ignore')"
   ]
  },
  {
   "cell_type": "markdown",
   "metadata": {},
   "source": [
    "Read pitching pickle files"
   ]
  },
  {
   "cell_type": "code",
   "execution_count": 27,
   "metadata": {},
   "outputs": [
    {
     "name": "stdout",
     "output_type": "stream",
     "text": [
      "<class 'pandas.core.frame.DataFrame'>\n",
      "Int64Index: 14473 entries, 0 to 19117\n",
      "Data columns (total 37 columns):\n",
      "stint             14473 non-null int64\n",
      "W                 14473 non-null int64\n",
      "L                 14473 non-null int64\n",
      "G                 14473 non-null int64\n",
      "GS                14473 non-null int64\n",
      "CG                14473 non-null int64\n",
      "SHO               14473 non-null int64\n",
      "SV                14473 non-null int64\n",
      "IPouts            14473 non-null int64\n",
      "H                 14473 non-null int64\n",
      "ER                14473 non-null int64\n",
      "HR                14473 non-null int64\n",
      "BB                14473 non-null int64\n",
      "SO                14473 non-null int64\n",
      "BAOpp             14473 non-null float64\n",
      "ERA               14473 non-null float64\n",
      "IBB               14473 non-null float64\n",
      "WP                14473 non-null int64\n",
      "HBP               14473 non-null float64\n",
      "BK                14473 non-null int64\n",
      "BFP               14473 non-null float64\n",
      "GF                14473 non-null int64\n",
      "R                 14473 non-null int64\n",
      "SH                14473 non-null float64\n",
      "SF                14473 non-null float64\n",
      "GIDP              14473 non-null float64\n",
      "weight            14473 non-null float64\n",
      "height            14473 non-null float64\n",
      "salary            14473 non-null float64\n",
      "MinSalaries       14473 non-null float64\n",
      "adjSalary         14473 non-null float64\n",
      "adjMinSalaries    14473 non-null float64\n",
      "adjSalary2        14473 non-null float64\n",
      "yearID            14473 non-null int64\n",
      "playerID          14473 non-null object\n",
      "bats              14473 non-null object\n",
      "throws            14473 non-null object\n",
      "dtypes: float64(15), int64(19), object(3)\n",
      "memory usage: 4.2+ MB\n",
      "None\n"
     ]
    }
   ],
   "source": [
    "pitching = pd.read_pickle(\"./analysisdata/pitching.pkl\")\n",
    "pitchingScaled = pd.read_pickle(\"./analysisdata/pitchingScaled.pkl\")\n",
    "\n",
    "print(pitching.info())"
   ]
  },
  {
   "cell_type": "markdown",
   "metadata": {},
   "source": [
    "#### Data Preprocessing"
   ]
  },
  {
   "cell_type": "code",
   "execution_count": 30,
   "metadata": {},
   "outputs": [
    {
     "name": "stdout",
     "output_type": "stream",
     "text": [
      "    W   L   G  GS  CG  SHO  SV  IPouts    H   ER    ...       R   SH   SF  \\\n",
      "0  10   6  54   0   0    0  14     264   83   37    ...      44  5.0  3.0   \n",
      "2   7   2  61   0   0    0  10     259   86   31    ...      35  1.0  2.0   \n",
      "3   4   3  54   0   0    0   1     181   45   24    ...      27  3.0  3.0   \n",
      "4  10   7  21  19   2    0   0     367  118   44    ...      49  7.0  4.0   \n",
      "5  17  10  36  36   6    1   0     782  268  100    ...     105  6.0  3.0   \n",
      "\n",
      "   GIDP  weight  height  yearID  throws_L  throws_R  throws_S  \n",
      "0  13.0   190.0    75.0    1985         0         1         0  \n",
      "2  16.0   210.0    74.0    1985         0         1         0  \n",
      "3   4.0   190.0    74.0    1985         1         0         0  \n",
      "4   8.0   195.0    76.0    1985         0         1         0  \n",
      "5  15.0   190.0    75.0    1985         0         1         0  \n",
      "\n",
      "[5 rows x 31 columns]\n",
      "<class 'pandas.core.frame.DataFrame'>\n",
      "Int64Index: 14473 entries, 0 to 19117\n",
      "Data columns (total 31 columns):\n",
      "W           14473 non-null int64\n",
      "L           14473 non-null int64\n",
      "G           14473 non-null int64\n",
      "GS          14473 non-null int64\n",
      "CG          14473 non-null int64\n",
      "SHO         14473 non-null int64\n",
      "SV          14473 non-null int64\n",
      "IPouts      14473 non-null int64\n",
      "H           14473 non-null int64\n",
      "ER          14473 non-null int64\n",
      "HR          14473 non-null int64\n",
      "BB          14473 non-null int64\n",
      "SO          14473 non-null int64\n",
      "BAOpp       14473 non-null float64\n",
      "ERA         14473 non-null float64\n",
      "IBB         14473 non-null float64\n",
      "WP          14473 non-null int64\n",
      "HBP         14473 non-null float64\n",
      "BK          14473 non-null int64\n",
      "BFP         14473 non-null float64\n",
      "GF          14473 non-null int64\n",
      "R           14473 non-null int64\n",
      "SH          14473 non-null float64\n",
      "SF          14473 non-null float64\n",
      "GIDP        14473 non-null float64\n",
      "weight      14473 non-null float64\n",
      "height      14473 non-null float64\n",
      "yearID      14473 non-null int64\n",
      "throws_L    14473 non-null uint8\n",
      "throws_R    14473 non-null uint8\n",
      "throws_S    14473 non-null uint8\n",
      "dtypes: float64(10), int64(18), uint8(3)\n",
      "memory usage: 3.2 MB\n",
      "None\n",
      "(14473, 31)\n"
     ]
    }
   ],
   "source": [
    "#Save pitcher IDs for potential post clustering analysis\n",
    "pitchIDs = pitching[['playerID', 'salary', 'adjSalary2']]\n",
    "#print(pitchIDs)\n",
    "\n",
    "#One Hot Encoding for throws\n",
    "tmp_df = pd.get_dummies(pitching.throws,prefix='throws')\n",
    "pitchingSC = pd.concat((pitching,tmp_df),axis=1) # add back into the dataframe\n",
    "\n",
    "#Drop Throws after one-hot encoding\n",
    "#Drop Attributes no longer needed (MinSalaries, adjMinSalaries, adjSalary, playerID, bats, stint\n",
    "pitchingSC = pitchingSC.drop(['salary', 'MinSalaries', 'adjMinSalaries', 'adjSalary', 'adjSalary2', 'playerID', 'bats', 'stint', 'throws'], axis=1)\n",
    "\n",
    "print(pitchingSC.head())\n",
    "print(pitchingSC.info())\n",
    "print(pitchingSC.shape)"
   ]
  },
  {
   "cell_type": "code",
   "execution_count": 37,
   "metadata": {},
   "outputs": [
    {
     "data": {
      "text/plain": [
       "count    14473.000000\n",
       "mean         5.028785\n",
       "std          3.679510\n",
       "min          0.000000\n",
       "25%          3.390000\n",
       "50%          4.310000\n",
       "75%          5.570000\n",
       "max        139.500000\n",
       "Name: ERA, dtype: float64"
      ]
     },
     "execution_count": 37,
     "metadata": {},
     "output_type": "execute_result"
    }
   ],
   "source": [
    "pitchingSC.ERA.describe()"
   ]
  },
  {
   "cell_type": "markdown",
   "metadata": {},
   "source": [
    "#### KNeighbors Graph"
   ]
  },
  {
   "cell_type": "code",
   "execution_count": 41,
   "metadata": {},
   "outputs": [
    {
     "name": "stdout",
     "output_type": "stream",
     "text": [
      "[3 3 3 ... 3 0 3]\n"
     ]
    },
    {
     "data": {
      "image/png": "[encoded data removed]",
      "text/plain": [
       "<Figure size 432x288 with 1 Axes>"
      ]
     },
     "metadata": {},
     "output_type": "display_data"
    }
   ],
   "source": [
    "X = pitchingSC.iloc[:,0:31].values\n",
    "nclust = 4\n",
    "Xknn = kneighbors_graph(X, 10)\n",
    "\n",
    "spc = SpectralClustering(n_clusters=nclust, affinity = 'precomputed')\n",
    "labels = spc.fit_predict(Xknn)\n",
    "print(labels)\n",
    "\n",
    "plt.scatter(X[:, 14], X[:, 0], c=labels,\n",
    "                    cmap=plt.cm.rainbow, s=5, linewidths=0)\n",
    "\n",
    "plt.show()"
   ]
  },
  {
   "cell_type": "markdown",
   "metadata": {},
   "source": [
    "#### Train and Adjust Parameters"
   ]
  },
  {
   "cell_type": "markdown",
   "metadata": {},
   "source": [
    "##### Elbow Graph"
   ]
  },
  {
   "cell_type": "markdown",
   "metadata": {},
   "source": [
    "##### Silhouette Graph"
   ]
  },
  {
   "cell_type": "markdown",
   "metadata": {},
   "source": [
    "#### Pairwise Distance"
   ]
  },
  {
   "cell_type": "code",
   "execution_count": null,
   "metadata": {},
   "outputs": [],
   "source": []
  },
  {
   "cell_type": "markdown",
   "metadata": {},
   "source": [
    "#### Visualize Results"
   ]
  },
  {
   "cell_type": "code",
   "execution_count": null,
   "metadata": {},
   "outputs": [],
   "source": []
  }
 ],
 "metadata": {
  "kernelspec": {
   "display_name": "Python 3",
   "language": "python",
   "name": "python3"
  },
  "language_info": {
   "codemirror_mode": {
    "name": "ipython",
    "version": 3
   },
   "file_extension": ".py",
   "mimetype": "text/x-python",
   "name": "python",
   "nbconvert_exporter": "python",
   "pygments_lexer": "ipython3",
   "version": "3.5.5"
  }
 },
 "nbformat": 4,
 "nbformat_minor": 2
}
