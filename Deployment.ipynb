{
 "cells": [
  {
   "cell_type": "markdown",
   "metadata": {},
   "source": [
    "## Deployment\n",
    "The clustering pitchers using Spectral Clustering and Hierarchical Agglomerative Clustering performed better than HDBSCAN and Gaussian Mixture models.  The best Spectral Clustering model has the advantage of producing an affinity matrix to make very granular comparisons of similar pitchers.  The best Hierarchical Agglomerative Clustering model produced results similar to the best Spectral Clustering model.  However, Hierarchical Agglomerative Clustering also produced a three cluster model which had a good silhouette score.  This enabled the analysis of clustered pitcher data using two different algorithms and numbers of clusters.  \n",
    "\n",
    "Performance was acceptable with all models on this data set.  A two-VCPU cloud virtual machine with 8GM of RAM was used to for clustering.  The subset pitching data frame used for clustering resulted in very quick model generation and result production.  Tests were run using the entire pitcher population data back to 1984.  Though the models ran longer, it was to be expected and only pushed the VM VCPU utilization to approximately 40%.  \n",
    "\n",
    "The clustering models were built in the cloud.  So, cloud deployment is an obvious option.  However, the size of this data set is not so large that is would necessitate an enterprise grade server cluster or significant cloud environment.  The data set itself would only need to be updated once or twice a year at most.  The technical deployment considerations are minimal.  Deploying and presenting the results to consumers is a different question.  As seen above, a giant dendrogram can’t simply be given to a general manager of a professional baseball team.  A filterable data table with similarity metrics or interactive dendrogram would be required to allow for individual player decisions.  \n",
    "\n",
    "This study focused on finding pitchers similar to two of the game’s premier pitchers.  Though some interesting results were produced.  The real value of these models would be to assist baseball general managers in making decisions regarding more average pitchers.  For example, the middle reliever has become a key component of most pitching staffs.  These pitchers are generally paid less and may not be as talented as starters or closers.  How can baseball management replace a good middle reliever with someone of equal ability, and how much should that person make?  The clustering tools can assist with answering those questions by showing similar pitchers who may be suitable replacements.  \n"
   ]
  },
  {
   "cell_type": "code",
   "execution_count": null,
   "metadata": {},
   "outputs": [],
   "source": []
  }
 ],
 "metadata": {
  "kernelspec": {
   "display_name": "Python 3",
   "language": "python",
   "name": "python3"
  },
  "language_info": {
   "codemirror_mode": {
    "name": "ipython",
    "version": 3
   },
   "file_extension": ".py",
   "mimetype": "text/x-python",
   "name": "python",
   "nbconvert_exporter": "python",
   "pygments_lexer": "ipython3",
   "version": "3.5.5"
  }
 },
 "nbformat": 4,
 "nbformat_minor": 2
}
