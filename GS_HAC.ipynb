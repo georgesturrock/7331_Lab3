{
 "cells": [
  {
   "cell_type": "markdown",
   "metadata": {},
   "source": [
    "### Hierarchical Agglomerative Clustering"
   ]
  },
  {
   "cell_type": "code",
   "execution_count": 1,
   "metadata": {},
   "outputs": [],
   "source": [
    "import pandas as pd\n",
    "from sklearn.cluster import AgglomerativeClustering\n",
    "from sklearn.model_selection import StratifiedKFold, cross_val_score\n",
    "import numpy as np\n",
    "import matplotlib.pyplot as plt\n",
    "import seaborn as sns\n",
    "\n",
    "import warnings\n",
    "warnings.filterwarnings('ignore')"
   ]
  },
  {
   "cell_type": "markdown",
   "metadata": {},
   "source": [
    "Read Pitching Pickle File"
   ]
  },
  {
   "cell_type": "code",
   "execution_count": 2,
   "metadata": {},
   "outputs": [],
   "source": [
    "pitching = pd.read_pickle(\"./analysisdata/pitching.pkl\")\n",
    "pitchingScaled = pd.read_pickle(\"./analysisdata/pitchingScaled.pkl\")"
   ]
  },
  {
   "cell_type": "code",
   "execution_count": null,
   "metadata": {},
   "outputs": [],
   "source": [
    "%%time \n",
    "\n",
    "#X1 = df_imputed[['Pclass','Fare']]\n",
    "\n",
    "params = []\n",
    "for link in ['ward', 'complete', 'average']:\n",
    "    for n_fam in range(2,10):\n",
    "\n",
    "        # append on the clustering\n",
    "        cls_fam = AgglomerativeClustering(n_clusters=n_fam, linkage=link)\n",
    "        cls_fam.fit(pitching)\n",
    "        newfeature_fam = cls_fam.labels_ # the labels from kmeans clustering\n",
    "\n",
    "        #y = df_imputed['Survived']\n",
    "        #X = df_imputed[['IsMale','Pclass','Fare']]\n",
    "        #X = np.column_stack((X,pd.get_dummies(newfeature_fam)))\n",
    "\n",
    "        #acc = cross_val_score(clf,X,y=y,cv=cv)\n",
    "        #params.append((n_fare,n_fam,acc.mean()*100,acc.std()*100)) # save state\n",
    "\n",
    "        #print (\"C=\",n_fam,link,\"Average accuracy = \", acc.mean()*100, \"+-\", acc.std()*100)"
   ]
  }
 ],
 "metadata": {
  "kernelspec": {
   "display_name": "Python 3",
   "language": "python",
   "name": "python3"
  },
  "language_info": {
   "codemirror_mode": {
    "name": "ipython",
    "version": 3
   },
   "file_extension": ".py",
   "mimetype": "text/x-python",
   "name": "python",
   "nbconvert_exporter": "python",
   "pygments_lexer": "ipython3",
   "version": "3.5.5"
  }
 },
 "nbformat": 4,
 "nbformat_minor": 2
}
