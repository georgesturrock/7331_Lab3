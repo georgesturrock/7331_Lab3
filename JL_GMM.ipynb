{
 "cells": [
  {
   "cell_type": "markdown",
   "metadata": {},
   "source": [
    "## Gaussian Mixture Models"
   ]
  },
  {
   "cell_type": "markdown",
   "metadata": {},
   "source": [
    "#### Used Same Pitching DataPrep as GS"
   ]
  },
  {
   "cell_type": "markdown",
   "metadata": {},
   "source": [
    "Data Prep Section"
   ]
  },
  {
   "cell_type": "code",
   "execution_count": 25,
   "metadata": {},
   "outputs": [],
   "source": [
    "# getting things started\n",
    "%matplotlib inline\n",
    "\n",
    "import time\n",
    "import matplotlib.pyplot as plt\n",
    "import numpy as np\n",
    "import pandas as pd\n",
    "from sklearn.preprocessing import StandardScaler"
   ]
  },
  {
   "cell_type": "code",
   "execution_count": 26,
   "metadata": {},
   "outputs": [],
   "source": [
    "pitching = pd.read_pickle(\"./analysisdata/pitching.pkl\")\n",
    "pitchingSv = pitching"
   ]
  },
  {
   "cell_type": "code",
   "execution_count": 27,
   "metadata": {},
   "outputs": [],
   "source": [
    "pitching = pitching[pitching.ERA < 9]\n",
    "pitching = pitching[pitching.yearID > 2007]"
   ]
  },
  {
   "cell_type": "code",
   "execution_count": 28,
   "metadata": {},
   "outputs": [],
   "source": [
    "#Save pitcher IDs for potential post clustering analysis\n",
    "pitchIDs = pitching[['yearID', 'playerID', 'salary', 'adjSalary2']]\n",
    "#print(pitchIDs)\n",
    "\n",
    "#One Hot Encoding for throws\n",
    "tmp_df = pd.get_dummies(pitching.throws,prefix='throws')\n",
    "pitchingSC = pd.concat((pitching,tmp_df),axis=1) # add back into the dataframe\n",
    "\n",
    "#Drop Throws after one-hot encoding\n",
    "#Drop Attributes no longer needed (MinSalaries, adjMinSalaries, adjSalary, playerID, bats, stint\n",
    "pitchingSC = pitchingSC.drop(['height', 'weight', 'salary', 'MinSalaries', 'adjMinSalaries', 'adjSalary', 'adjSalary2', 'playerID', 'bats', 'stint', 'throws'], axis=1)\n",
    "colNamesPSC = pitchingSC.columns\n",
    "\n",
    "#Scale pitchingSC\n",
    "scaler = StandardScaler()\n",
    "pitchingSCScaled = scaler.fit_transform(pitchingSC)\n",
    "pitchingSCScaled = pd.DataFrame(pitchingSCScaled, columns=colNamesPSC)\n",
    "\n",
    "#print(pitchingSC.head())\n",
    "#print(pitchingSC.info())\n",
    "#print(pitchingSC.shape)\n",
    "#print(pitchingSCScaled.head())\n",
    "#print(pitchingSCScaled.info())"
   ]
  },
  {
   "cell_type": "code",
   "execution_count": 29,
   "metadata": {},
   "outputs": [
    {
     "name": "stdout",
     "output_type": "stream",
     "text": [
      "<class 'numpy.ndarray'>\n",
      "Wall time: 1.5 ms\n"
     ]
    }
   ],
   "source": [
    "X1 = pitchingSC\n",
    "#pitchingSC.describe()\n",
    "X1 = pitchingSC.values\n",
    "print(type(X1))"
   ]
  },
  {
   "cell_type": "code",
   "execution_count": 102,
   "metadata": {},
   "outputs": [],
   "source": [
    "#plt.plot(X1)"
   ]
  },
  {
   "cell_type": "markdown",
   "metadata": {},
   "source": [
    "## Gaussian Mixture Models"
   ]
  },
  {
   "cell_type": "code",
   "execution_count": 89,
   "metadata": {},
   "outputs": [
    {
     "name": "stdout",
     "output_type": "stream",
     "text": [
      "Wall time: 1min 47s\n"
     ]
    }
   ],
   "source": [
    "%%time\n",
    "# this code has been manipulated from the source available on sklearn's website documentation\n",
    "import itertools\n",
    "\n",
    "import numpy as np\n",
    "from scipy import linalg\n",
    "import matplotlib.pyplot as plt\n",
    "import matplotlib as mpl\n",
    "\n",
    "from sklearn import mixture\n",
    "\n",
    "X = X1\n",
    "\n",
    "lowest_bic = np.infty\n",
    "bic = []\n",
    "n_components_range = range(10,20)\n",
    "cv_types = ['spherical','tied', 'diag', 'full']\n",
    "in_parm_types = ['random','kmeans']\n",
    "for in_parm_type in in_parm_types:\n",
    "    for cv_type in cv_types:\n",
    "        for n_components in n_components_range:\n",
    "            # Fit a mixture of Gaussians with EM\n",
    "            gmm = mixture.GaussianMixture(n_components=n_components, covariance_type=cv_type, init_params=in_parm_type, max_iter=200, random_state=42)\n",
    "            gmm.fit(X)\n",
    "            bic.append(gmm.bic(X))\n",
    "            if bic[-1] < lowest_bic:\n",
    "                lowest_bic = bic[-1]\n",
    "                best_gmm = gmm"
   ]
  },
  {
   "cell_type": "code",
   "execution_count": 90,
   "metadata": {},
   "outputs": [
    {
     "name": "stdout",
     "output_type": "stream",
     "text": [
      "GaussianMixture(covariance_type='full', init_params='random', max_iter=200,\n",
      "        means_init=None, n_components=15, n_init=1, precisions_init=None,\n",
      "        random_state=42, reg_covar=1e-06, tol=0.001, verbose=0,\n",
      "        verbose_interval=10, warm_start=False, weights_init=None)\n",
      "\n",
      " Lowest BIC: 247569.46\n"
     ]
    }
   ],
   "source": [
    "print(best_gmm)\n",
    "#print(bic)\n",
    "print('\\n Lowest BIC: %.2f' % lowest_bic)"
   ]
  },
  {
   "cell_type": "code",
   "execution_count": 93,
   "metadata": {},
   "outputs": [
    {
     "data": {
      "image/png": "[encoded data removed]",
      "text/plain": [
       "<matplotlib.figure.Figure at 0x29560b35518>"
      ]
     },
     "metadata": {},
     "output_type": "display_data"
    }
   ],
   "source": [
    "# this code has been manipulated from the source available on sklearn's website documentation\n",
    "# plot the BIC\n",
    "bic = np.array(bic)\n",
    "color_iter = itertools.cycle(['c', 'r', 'b', 'g', 'k', 'm', 'y'])\n",
    "clf = best_gmm\n",
    "bars = []\n",
    "\n",
    "plt.figure(figsize=(10,4))\n",
    "spl = plt.subplot(1,1,1)\n",
    "# Plot the BIC scores\n",
    "for i, (cv_type, color) in enumerate(zip(cv_types, color_iter)):\n",
    "    xpos = np.array(n_components_range) + .2 * (i - 2)\n",
    "    bars.append(plt.bar(xpos, bic[i * len(n_components_range):\n",
    "                                  (i + 1) * len(n_components_range)],\n",
    "                        width=.2, color=color))\n",
    "plt.xticks(n_components_range)\n",
    "plt.ylim([bic.min() * 1.01 - .01 * bic.max(), bic.max()])\n",
    "plt.title('BIC score per model')\n",
    "\n",
    "xpos = np.min(n_components_range)-0.4 + np.mod(bic.argmin(), len(n_components_range)) +\\\n",
    "    .2 * np.floor(bic.argmin() / len(n_components_range))\n",
    "plt.text(xpos, bic.min() * 0.97 + .03 * bic.max(), '*', fontsize=14)\n",
    "spl.set_xlabel('Number of components')\n",
    "spl.legend([b[0] for b in bars], cv_types)\n",
    "\n",
    "plt.show()"
   ]
  },
  {
   "cell_type": "code",
   "execution_count": 94,
   "metadata": {},
   "outputs": [
    {
     "data": {
      "image/png": "[encoded data removed]",
      "text/plain": [
       "<matplotlib.figure.Figure at 0x294a3743630>"
      ]
     },
     "metadata": {},
     "output_type": "display_data"
    }
   ],
   "source": [
    "# this code has been manipulated from the source available on sklearn's website documentation\n",
    "# Plot the winner\n",
    "plt.figure(figsize=(8,4))\n",
    "splot = plt.subplot(1,1,1)\n",
    "Y_ = clf.predict(X)\n",
    "for i, (mean, covar, color) in enumerate(zip(clf.means_, clf.covariances_,\n",
    "                                             color_iter)):\n",
    "    if len(covar.shape)<2:\n",
    "        tmp = np.zeros((2,2))\n",
    "        np.fill_diagonal(tmp,covar)\n",
    "        covar = tmp\n",
    "    elif covar.shape[0] != covar.shape[1]:\n",
    "        covar = np.diag(covar)\n",
    "        \n",
    "    v, w = linalg.eigh(covar)\n",
    "    if not np.any(Y_ == i):\n",
    "        continue\n",
    "    plt.scatter(X[Y_ == i, 0], X[Y_ == i, 1], .8, color=color)\n",
    "\n",
    "    # Plot an ellipse to show the Gaussian component\n",
    "    angle = np.arctan2(w[0][1], w[0][0])\n",
    "    angle = 180 * angle / np.pi  # convert to degrees\n",
    "    v *= 4\n",
    "    ell = mpl.patches.Ellipse(mean, v[0], v[1], 180 + angle, color=color)\n",
    "    ell.set_clip_box(splot.bbox)\n",
    "    ell.set_alpha(.5)\n",
    "    splot.add_artist(ell)\n",
    "\n",
    "\n",
    "plt.title('Selected GMM')\n",
    "plt.show()"
   ]
  },
  {
   "cell_type": "code",
   "execution_count": null,
   "metadata": {},
   "outputs": [],
   "source": []
  }
 ],
 "metadata": {
  "kernelspec": {
   "display_name": "Python 3",
   "language": "python",
   "name": "python3"
  },
  "language_info": {
   "codemirror_mode": {
    "name": "ipython",
    "version": 3
   },
   "file_extension": ".py",
   "mimetype": "text/x-python",
   "name": "python",
   "nbconvert_exporter": "python",
   "pygments_lexer": "ipython3",
   "version": "3.6.4"
  }
 },
 "nbformat": 4,
 "nbformat_minor": 2
}
