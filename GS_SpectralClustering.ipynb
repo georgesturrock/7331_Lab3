{
 "cells": [
  {
   "cell_type": "markdown",
   "metadata": {},
   "source": [
    "### Spectral Clustering - KNeighors Graph"
   ]
  },
  {
   "cell_type": "code",
   "execution_count": 1,
   "metadata": {},
   "outputs": [],
   "source": [
    "import pandas as pd\n",
    "from sklearn.cluster import SpectralClustering\n",
    "from sklearn.neighbors import kneighbors_graph\n",
    "from sklearn.manifold import spectral_embedding\n",
    "import numpy as np\n",
    "import matplotlib.pyplot as plt\n",
    "import seaborn as sns\n",
    "\n",
    "import warnings\n",
    "warnings.filterwarnings('ignore')"
   ]
  },
  {
   "cell_type": "markdown",
   "metadata": {},
   "source": [
    "Read pitching pickle files"
   ]
  },
  {
   "cell_type": "code",
   "execution_count": 2,
   "metadata": {},
   "outputs": [
    {
     "name": "stdout",
     "output_type": "stream",
     "text": [
      "<class 'pandas.core.frame.DataFrame'>\n",
      "Int64Index: 14473 entries, 0 to 19117\n",
      "Data columns (total 37 columns):\n",
      "stint             14473 non-null int64\n",
      "W                 14473 non-null int64\n",
      "L                 14473 non-null int64\n",
      "G                 14473 non-null int64\n",
      "GS                14473 non-null int64\n",
      "CG                14473 non-null int64\n",
      "SHO               14473 non-null int64\n",
      "SV                14473 non-null int64\n",
      "IPouts            14473 non-null int64\n",
      "H                 14473 non-null int64\n",
      "ER                14473 non-null int64\n",
      "HR                14473 non-null int64\n",
      "BB                14473 non-null int64\n",
      "SO                14473 non-null int64\n",
      "BAOpp             14473 non-null float64\n",
      "ERA               14473 non-null float64\n",
      "IBB               14473 non-null float64\n",
      "WP                14473 non-null int64\n",
      "HBP               14473 non-null float64\n",
      "BK                14473 non-null int64\n",
      "BFP               14473 non-null float64\n",
      "GF                14473 non-null int64\n",
      "R                 14473 non-null int64\n",
      "SH                14473 non-null float64\n",
      "SF                14473 non-null float64\n",
      "GIDP              14473 non-null float64\n",
      "weight            14473 non-null float64\n",
      "height            14473 non-null float64\n",
      "salary            14473 non-null float64\n",
      "MinSalaries       14473 non-null float64\n",
      "adjSalary         14473 non-null float64\n",
      "adjMinSalaries    14473 non-null float64\n",
      "adjSalary2        14473 non-null float64\n",
      "yearID            14473 non-null int64\n",
      "playerID          14473 non-null object\n",
      "bats              14473 non-null object\n",
      "throws            14473 non-null object\n",
      "dtypes: float64(15), int64(19), object(3)\n",
      "memory usage: 4.2+ MB\n",
      "None\n"
     ]
    }
   ],
   "source": [
    "pitching = pd.read_pickle(\"./analysisdata/pitching.pkl\")\n",
    "pitchingScaled = pd.read_pickle(\"./analysisdata/pitchingScaled.pkl\")\n",
    "\n",
    "print(pitching.info())"
   ]
  },
  {
   "cell_type": "markdown",
   "metadata": {},
   "source": [
    "#### Data Preprocessing"
   ]
  },
  {
   "cell_type": "code",
   "execution_count": 3,
   "metadata": {},
   "outputs": [
    {
     "name": "stdout",
     "output_type": "stream",
     "text": [
      "    W   L   G  GS  CG  SHO  SV  IPouts    H   ER    ...       R   SH   SF  \\\n",
      "0  10   6  54   0   0    0  14     264   83   37    ...      44  5.0  3.0   \n",
      "2   7   2  61   0   0    0  10     259   86   31    ...      35  1.0  2.0   \n",
      "3   4   3  54   0   0    0   1     181   45   24    ...      27  3.0  3.0   \n",
      "4  10   7  21  19   2    0   0     367  118   44    ...      49  7.0  4.0   \n",
      "5  17  10  36  36   6    1   0     782  268  100    ...     105  6.0  3.0   \n",
      "\n",
      "   GIDP  weight  height  yearID  throws_L  throws_R  throws_S  \n",
      "0  13.0   190.0    75.0    1985         0         1         0  \n",
      "2  16.0   210.0    74.0    1985         0         1         0  \n",
      "3   4.0   190.0    74.0    1985         1         0         0  \n",
      "4   8.0   195.0    76.0    1985         0         1         0  \n",
      "5  15.0   190.0    75.0    1985         0         1         0  \n",
      "\n",
      "[5 rows x 31 columns]\n",
      "<class 'pandas.core.frame.DataFrame'>\n",
      "Int64Index: 14473 entries, 0 to 19117\n",
      "Data columns (total 31 columns):\n",
      "W           14473 non-null int64\n",
      "L           14473 non-null int64\n",
      "G           14473 non-null int64\n",
      "GS          14473 non-null int64\n",
      "CG          14473 non-null int64\n",
      "SHO         14473 non-null int64\n",
      "SV          14473 non-null int64\n",
      "IPouts      14473 non-null int64\n",
      "H           14473 non-null int64\n",
      "ER          14473 non-null int64\n",
      "HR          14473 non-null int64\n",
      "BB          14473 non-null int64\n",
      "SO          14473 non-null int64\n",
      "BAOpp       14473 non-null float64\n",
      "ERA         14473 non-null float64\n",
      "IBB         14473 non-null float64\n",
      "WP          14473 non-null int64\n",
      "HBP         14473 non-null float64\n",
      "BK          14473 non-null int64\n",
      "BFP         14473 non-null float64\n",
      "GF          14473 non-null int64\n",
      "R           14473 non-null int64\n",
      "SH          14473 non-null float64\n",
      "SF          14473 non-null float64\n",
      "GIDP        14473 non-null float64\n",
      "weight      14473 non-null float64\n",
      "height      14473 non-null float64\n",
      "yearID      14473 non-null int64\n",
      "throws_L    14473 non-null uint8\n",
      "throws_R    14473 non-null uint8\n",
      "throws_S    14473 non-null uint8\n",
      "dtypes: float64(10), int64(18), uint8(3)\n",
      "memory usage: 3.2 MB\n",
      "None\n",
      "(14473, 31)\n"
     ]
    }
   ],
   "source": [
    "#Save pitcher IDs for potential post clustering analysis\n",
    "pitchIDs = pitching[['yearID', 'playerID', 'salary', 'adjSalary2']]\n",
    "#print(pitchIDs)\n",
    "\n",
    "#One Hot Encoding for throws\n",
    "tmp_df = pd.get_dummies(pitching.throws,prefix='throws')\n",
    "pitchingSC = pd.concat((pitching,tmp_df),axis=1) # add back into the dataframe\n",
    "\n",
    "#Drop Throws after one-hot encoding\n",
    "#Drop Attributes no longer needed (MinSalaries, adjMinSalaries, adjSalary, playerID, bats, stint\n",
    "pitchingSC = pitchingSC.drop(['salary', 'MinSalaries', 'adjMinSalaries', 'adjSalary', 'adjSalary2', 'playerID', 'bats', 'stint', 'throws'], axis=1)\n",
    "\n",
    "print(pitchingSC.head())\n",
    "print(pitchingSC.info())\n",
    "print(pitchingSC.shape)"
   ]
  },
  {
   "cell_type": "markdown",
   "metadata": {},
   "source": [
    "##### ERA Outliers"
   ]
  },
  {
   "cell_type": "code",
   "execution_count": 14,
   "metadata": {},
   "outputs": [
    {
     "name": "stdout",
     "output_type": "stream",
     "text": [
      "count    1026.000000\n",
      "mean        4.501735\n",
      "std         1.674394\n",
      "min         0.000000\n",
      "25%         3.342500\n",
      "50%         4.275000\n",
      "75%         5.365000\n",
      "max         9.970000\n",
      "Name: ERA, dtype: float64\n"
     ]
    }
   ],
   "source": [
    "print(pitchingSC.ERA.describe())\n",
    "pitchingSC = pitchingSC[pitchingSC.ERA < 10]\n",
    "pitchingSC = pitchingSC[pitchingSC.yearID > 2016]"
   ]
  },
  {
   "cell_type": "markdown",
   "metadata": {},
   "source": [
    "#### KNeighbors Graph"
   ]
  },
  {
   "cell_type": "markdown",
   "metadata": {},
   "source": [
    "##### Laplacian Graph"
   ]
  },
  {
   "cell_type": "code",
   "execution_count": null,
   "metadata": {},
   "outputs": [],
   "source": []
  },
  {
   "cell_type": "markdown",
   "metadata": {},
   "source": [
    "#### Train and Adjust Parameters"
   ]
  },
  {
   "cell_type": "code",
   "execution_count": 18,
   "metadata": {},
   "outputs": [
    {
     "name": "stdout",
     "output_type": "stream",
     "text": [
      "507\n"
     ]
    },
    {
     "data": {
      "image/png": "[encoded data removed]",
      "text/plain": [
       "<Figure size 432x288 with 1 Axes>"
      ]
     },
     "metadata": {},
     "output_type": "display_data"
    }
   ],
   "source": [
    "X = pitchingSC.iloc[:,0:31].values\n",
    "nclust = 3\n",
    "Xknn = kneighbors_graph(X, 10)\n",
    "\n",
    "spcKNG = SpectralClustering(n_clusters=nclust, affinity = 'precomputed')\n",
    "\n",
    "labels = spcKNG.fit_predict(Xknn)\n",
    "print(len(labels))\n",
    "\n",
    "plt.scatter(X[:, 14], X[:, 0], c=labels, cmap=plt.cm.rainbow, s=7, linewidths=0)\n",
    "\n",
    "plt.show()"
   ]
  },
  {
   "cell_type": "markdown",
   "metadata": {},
   "source": [
    "#### Visualize Results"
   ]
  },
  {
   "cell_type": "code",
   "execution_count": 19,
   "metadata": {},
   "outputs": [
    {
     "name": "stdout",
     "output_type": "stream",
     "text": [
      "  (0, 273)\t1.0\n",
      "  (0, 470)\t1.0\n",
      "  (0, 89)\t1.0\n",
      "  (0, 90)\t1.0\n",
      "  (0, 495)\t1.0\n",
      "  (0, 53)\t1.0\n",
      "  (0, 208)\t1.0\n",
      "  (0, 292)\t1.0\n",
      "  (0, 425)\t1.0\n",
      "  (0, 33)\t1.0\n",
      "  (1, 421)\t1.0\n",
      "  (1, 40)\t1.0\n",
      "  (1, 482)\t1.0\n",
      "  (1, 341)\t1.0\n",
      "  (1, 363)\t1.0\n",
      "  (1, 184)\t1.0\n",
      "  (1, 396)\t1.0\n",
      "  (1, 433)\t1.0\n",
      "  (1, 157)\t1.0\n",
      "  (1, 100)\t1.0\n",
      "  (2, 479)\t1.0\n",
      "  (2, 266)\t1.0\n",
      "  (2, 323)\t1.0\n",
      "  (2, 312)\t1.0\n",
      "  (2, 281)\t1.0\n",
      "  :\t:\n",
      "  (504, 110)\t1.0\n",
      "  (504, 278)\t1.0\n",
      "  (504, 153)\t1.0\n",
      "  (504, 132)\t1.0\n",
      "  (504, 0)\t1.0\n",
      "  (505, 162)\t1.0\n",
      "  (505, 42)\t1.0\n",
      "  (505, 345)\t1.0\n",
      "  (505, 289)\t1.0\n",
      "  (505, 146)\t1.0\n",
      "  (505, 268)\t1.0\n",
      "  (505, 248)\t1.0\n",
      "  (505, 269)\t1.0\n",
      "  (505, 481)\t1.0\n",
      "  (505, 78)\t1.0\n",
      "  (506, 307)\t1.0\n",
      "  (506, 451)\t1.0\n",
      "  (506, 472)\t1.0\n",
      "  (506, 427)\t1.0\n",
      "  (506, 305)\t1.0\n",
      "  (506, 208)\t1.0\n",
      "  (506, 90)\t1.0\n",
      "  (506, 126)\t1.0\n",
      "  (506, 250)\t1.0\n",
      "  (506, 61)\t1.0\n",
      "[1 2 1 0 1 1 1 0 1 0 2 1 1 0 2 0 2 1 1 1 0 1 1 0 1 1 1 1 1 0 2 0 1 1 1 0 1\n",
      " 1 2 1 2 1 2 1 1 1 1 1 1 0 1 0 2 1 1 0 0 1 0 0 1 0 0 2 1 0 0 1 1 0 2 0 1 1\n",
      " 2 0 0 2 2 1 1 0 1 0 2 1 1 2 2 1 1 1 2 2 1 2 0 1 2 2 2 1 1 0 2 2 2 1 0 2 1\n",
      " 1 0 1 1 0 1 0 1 2 0 1 1 1 2 0 1 1 1 1 1 2 1 0 2 0 1 1 1 2 1 0 1 2 1 1 2 2\n",
      " 1 2 2 0 1 1 1 0 1 2 2 1 1 1 2 1 1 1 0 2 0 0 0 2 1 1 1 2 2 2 1 1 1 2 1 1 2\n",
      " 0 0 0 1 1 1 0 2 2 1 2 0 1 1 1 1 1 2 1 0 1 1 1 1 2 2 1 2 1 1 1 0 1 1 1 1 1\n",
      " 1 1 1 1 1 1 2 1 0 1 1 1 0 1 2 2 2 1 1 0 2 1 0 1 1 2 2 2 1 0 2 1 1 1 1 2 1\n",
      " 0 1 1 2 2 1 0 1 2 2 2 1 2 2 1 1 0 1 1 1 2 1 1 1 0 1 2 0 1 1 2 1 0 1 1 0 2\n",
      " 0 0 2 2 2 1 2 1 0 1 2 1 1 1 2 1 1 0 1 1 1 2 2 1 2 2 1 1 2 0 0 1 0 0 1 1 1\n",
      " 1 1 0 0 1 2 1 2 2 0 1 1 2 2 0 1 0 1 1 0 2 2 2 1 1 1 0 0 2 0 2 2 1 0 1 1 0\n",
      " 2 1 0 0 2 0 1 2 1 1 1 1 2 0 0 0 1 1 1 1 1 1 0 1 1 1 2 1 2 1 1 2 2 2 0 2 1\n",
      " 0 1 0 2 0 1 0 2 2 1 0 1 0 0 2 0 1 1 1 1 1 1 1 1 0 1 2 0 0 1 1 0 1 1 0 1 0\n",
      " 2 2 1 1 1 2 1 1 0 1 1 2 2 0 1 2 1 0 1 1 2 0 1 1 1 1 1 1 1 2 2 1 0 2 1 1 1\n",
      " 2 2 2 1 1 1 1 1 0 2 1 1 0 0 1 1 2 1 1 0 0 0 0 1 2 1]\n"
     ]
    }
   ],
   "source": [
    "print(spcKNG.affinity_matrix_)\n",
    "print(spcKNG.labels_)"
   ]
  },
  {
   "cell_type": "code",
   "execution_count": null,
   "metadata": {},
   "outputs": [],
   "source": []
  }
 ],
 "metadata": {
  "kernelspec": {
   "display_name": "Python 3",
   "language": "python",
   "name": "python3"
  },
  "language_info": {
   "codemirror_mode": {
    "name": "ipython",
    "version": 3
   },
   "file_extension": ".py",
   "mimetype": "text/x-python",
   "name": "python",
   "nbconvert_exporter": "python",
   "pygments_lexer": "ipython3",
   "version": "3.5.5"
  }
 },
 "nbformat": 4,
 "nbformat_minor": 2
}
